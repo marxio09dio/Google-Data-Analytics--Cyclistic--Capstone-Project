{
 "cells": [
  {
   "cell_type": "markdown",
   "metadata": {},
   "source": [
    "# exploratory analysis"
   ]
  },
  {
   "cell_type": "code",
   "execution_count": 14,
   "metadata": {},
   "outputs": [],
   "source": [
    "import numpy as np\n",
    "import pandas as pd"
   ]
  },
  {
   "cell_type": "code",
   "execution_count": 15,
   "metadata": {},
   "outputs": [
    {
     "name": "stderr",
     "output_type": "stream",
     "text": [
      "C:\\Users\\extra\\AppData\\Local\\Temp\\ipykernel_12760\\4188049850.py:1: DtypeWarning: Columns (5,7) have mixed types. Specify dtype option on import or set low_memory=False.\n",
      "  df3 = pd.read_csv('../tripata.csv')\n"
     ]
    }
   ],
   "source": [
    "df3 = pd.read_csv('../tripata.csv')\n"
   ]
  },
  {
   "cell_type": "code",
   "execution_count": 16,
   "metadata": {},
   "outputs": [
    {
     "data": {
      "text/html": [
       "<div>\n",
       "<style scoped>\n",
       "    .dataframe tbody tr th:only-of-type {\n",
       "        vertical-align: middle;\n",
       "    }\n",
       "\n",
       "    .dataframe tbody tr th {\n",
       "        vertical-align: top;\n",
       "    }\n",
       "\n",
       "    .dataframe thead th {\n",
       "        text-align: right;\n",
       "    }\n",
       "</style>\n",
       "<table border=\"1\" class=\"dataframe\">\n",
       "  <thead>\n",
       "    <tr style=\"text-align: right;\">\n",
       "      <th></th>\n",
       "      <th>ride_id</th>\n",
       "      <th>rideable_type</th>\n",
       "      <th>started_at</th>\n",
       "      <th>ended_at</th>\n",
       "      <th>start_station_name</th>\n",
       "      <th>start_station_id</th>\n",
       "      <th>end_station_name</th>\n",
       "      <th>end_station_id</th>\n",
       "      <th>start_lat</th>\n",
       "      <th>start_lng</th>\n",
       "      <th>end_lat</th>\n",
       "      <th>end_lng</th>\n",
       "      <th>member_casual</th>\n",
       "      <th>Duration</th>\n",
       "    </tr>\n",
       "  </thead>\n",
       "  <tbody>\n",
       "    <tr>\n",
       "      <th>0</th>\n",
       "      <td>A847FADBBC638E45</td>\n",
       "      <td>docked_bike</td>\n",
       "      <td>2020-04-26 17:45:14</td>\n",
       "      <td>2020-04-26 18:12:03</td>\n",
       "      <td>Eckhart Park</td>\n",
       "      <td>86</td>\n",
       "      <td>Lincoln Ave &amp; Diversey Pkwy</td>\n",
       "      <td>152.0</td>\n",
       "      <td>41.8964</td>\n",
       "      <td>-87.6610</td>\n",
       "      <td>41.9322</td>\n",
       "      <td>-87.6586</td>\n",
       "      <td>member</td>\n",
       "      <td>0 days 00:26:49</td>\n",
       "    </tr>\n",
       "    <tr>\n",
       "      <th>1</th>\n",
       "      <td>5405B80E996FF60D</td>\n",
       "      <td>docked_bike</td>\n",
       "      <td>2020-04-17 17:08:54</td>\n",
       "      <td>2020-04-17 17:17:03</td>\n",
       "      <td>Drake Ave &amp; Fullerton Ave</td>\n",
       "      <td>503</td>\n",
       "      <td>Kosciuszko Park</td>\n",
       "      <td>499.0</td>\n",
       "      <td>41.9244</td>\n",
       "      <td>-87.7154</td>\n",
       "      <td>41.9306</td>\n",
       "      <td>-87.7238</td>\n",
       "      <td>member</td>\n",
       "      <td>0 days 00:08:09</td>\n",
       "    </tr>\n",
       "    <tr>\n",
       "      <th>2</th>\n",
       "      <td>5DD24A79A4E006F4</td>\n",
       "      <td>docked_bike</td>\n",
       "      <td>2020-04-01 17:54:13</td>\n",
       "      <td>2020-04-01 18:08:36</td>\n",
       "      <td>McClurg Ct &amp; Erie St</td>\n",
       "      <td>142</td>\n",
       "      <td>Indiana Ave &amp; Roosevelt Rd</td>\n",
       "      <td>255.0</td>\n",
       "      <td>41.8945</td>\n",
       "      <td>-87.6179</td>\n",
       "      <td>41.8679</td>\n",
       "      <td>-87.6230</td>\n",
       "      <td>member</td>\n",
       "      <td>0 days 00:14:23</td>\n",
       "    </tr>\n",
       "    <tr>\n",
       "      <th>3</th>\n",
       "      <td>2A59BBDF5CDBA725</td>\n",
       "      <td>docked_bike</td>\n",
       "      <td>2020-04-07 12:50:19</td>\n",
       "      <td>2020-04-07 13:02:31</td>\n",
       "      <td>California Ave &amp; Division St</td>\n",
       "      <td>216</td>\n",
       "      <td>Wood St &amp; Augusta Blvd</td>\n",
       "      <td>657.0</td>\n",
       "      <td>41.9030</td>\n",
       "      <td>-87.6975</td>\n",
       "      <td>41.8992</td>\n",
       "      <td>-87.6722</td>\n",
       "      <td>member</td>\n",
       "      <td>0 days 00:12:12</td>\n",
       "    </tr>\n",
       "    <tr>\n",
       "      <th>4</th>\n",
       "      <td>27AD306C119C6158</td>\n",
       "      <td>docked_bike</td>\n",
       "      <td>2020-04-18 10:22:59</td>\n",
       "      <td>2020-04-18 11:15:54</td>\n",
       "      <td>Rush St &amp; Hubbard St</td>\n",
       "      <td>125</td>\n",
       "      <td>Sheridan Rd &amp; Lawrence Ave</td>\n",
       "      <td>323.0</td>\n",
       "      <td>41.8902</td>\n",
       "      <td>-87.6262</td>\n",
       "      <td>41.9695</td>\n",
       "      <td>-87.6547</td>\n",
       "      <td>casual</td>\n",
       "      <td>0 days 00:52:55</td>\n",
       "    </tr>\n",
       "  </tbody>\n",
       "</table>\n",
       "</div>"
      ],
      "text/plain": [
       "            ride_id rideable_type           started_at             ended_at  \\\n",
       "0  A847FADBBC638E45   docked_bike  2020-04-26 17:45:14  2020-04-26 18:12:03   \n",
       "1  5405B80E996FF60D   docked_bike  2020-04-17 17:08:54  2020-04-17 17:17:03   \n",
       "2  5DD24A79A4E006F4   docked_bike  2020-04-01 17:54:13  2020-04-01 18:08:36   \n",
       "3  2A59BBDF5CDBA725   docked_bike  2020-04-07 12:50:19  2020-04-07 13:02:31   \n",
       "4  27AD306C119C6158   docked_bike  2020-04-18 10:22:59  2020-04-18 11:15:54   \n",
       "\n",
       "             start_station_name start_station_id             end_station_name  \\\n",
       "0                  Eckhart Park               86  Lincoln Ave & Diversey Pkwy   \n",
       "1     Drake Ave & Fullerton Ave              503              Kosciuszko Park   \n",
       "2          McClurg Ct & Erie St              142   Indiana Ave & Roosevelt Rd   \n",
       "3  California Ave & Division St              216       Wood St & Augusta Blvd   \n",
       "4          Rush St & Hubbard St              125   Sheridan Rd & Lawrence Ave   \n",
       "\n",
       "  end_station_id  start_lat  start_lng  end_lat  end_lng member_casual  \\\n",
       "0          152.0    41.8964   -87.6610  41.9322 -87.6586        member   \n",
       "1          499.0    41.9244   -87.7154  41.9306 -87.7238        member   \n",
       "2          255.0    41.8945   -87.6179  41.8679 -87.6230        member   \n",
       "3          657.0    41.9030   -87.6975  41.8992 -87.6722        member   \n",
       "4          323.0    41.8902   -87.6262  41.9695 -87.6547        casual   \n",
       "\n",
       "          Duration  \n",
       "0  0 days 00:26:49  \n",
       "1  0 days 00:08:09  \n",
       "2  0 days 00:14:23  \n",
       "3  0 days 00:12:12  \n",
       "4  0 days 00:52:55  "
      ]
     },
     "execution_count": 16,
     "metadata": {},
     "output_type": "execute_result"
    }
   ],
   "source": [
    "df3.head()"
   ]
  },
  {
   "cell_type": "code",
   "execution_count": 23,
   "metadata": {},
   "outputs": [
    {
     "data": {
      "text/plain": [
       "classic_bike     0.495262\n",
       "docked_bike      0.256288\n",
       "electric_bike    0.248449\n",
       "Name: rideable_type, dtype: float64"
      ]
     },
     "execution_count": 23,
     "metadata": {},
     "output_type": "execute_result"
    }
   ],
   "source": [
    "df3.rideable_type.value_counts(normalize=True)"
   ]
  },
  {
   "cell_type": "markdown",
   "metadata": {},
   "source": [
    "1. classic_bike     49.53%\n",
    "2. docked_bike      25.63%\n",
    "3. electric_bike    24.84%"
   ]
  },
  {
   "cell_type": "code",
   "execution_count": 24,
   "metadata": {},
   "outputs": [
    {
     "data": {
      "text/plain": [
       "member    0.573402\n",
       "casual    0.426598\n",
       "Name: member_casual, dtype: float64"
      ]
     },
     "execution_count": 24,
     "metadata": {},
     "output_type": "execute_result"
    }
   ],
   "source": [
    "df3.member_casual.value_counts(normalize=True)"
   ]
  },
  {
   "cell_type": "markdown",
   "metadata": {},
   "source": [
    "1. member    57.34%\n",
    "2. casual    42.66%"
   ]
  },
  {
   "cell_type": "code",
   "execution_count": 25,
   "metadata": {},
   "outputs": [
    {
     "data": {
      "text/html": [
       "<div>\n",
       "<style scoped>\n",
       "    .dataframe tbody tr th:only-of-type {\n",
       "        vertical-align: middle;\n",
       "    }\n",
       "\n",
       "    .dataframe tbody tr th {\n",
       "        vertical-align: top;\n",
       "    }\n",
       "\n",
       "    .dataframe thead th {\n",
       "        text-align: right;\n",
       "    }\n",
       "</style>\n",
       "<table border=\"1\" class=\"dataframe\">\n",
       "  <thead>\n",
       "    <tr style=\"text-align: right;\">\n",
       "      <th></th>\n",
       "      <th>ride_id</th>\n",
       "      <th>rideable_type</th>\n",
       "      <th>started_at</th>\n",
       "      <th>ended_at</th>\n",
       "      <th>start_station_name</th>\n",
       "      <th>start_station_id</th>\n",
       "      <th>end_station_name</th>\n",
       "      <th>end_station_id</th>\n",
       "      <th>start_lat</th>\n",
       "      <th>start_lng</th>\n",
       "      <th>end_lat</th>\n",
       "      <th>end_lng</th>\n",
       "      <th>member_casual</th>\n",
       "      <th>Duration</th>\n",
       "    </tr>\n",
       "  </thead>\n",
       "  <tbody>\n",
       "    <tr>\n",
       "      <th>11784293</th>\n",
       "      <td>F6BE77C9DC9AB3BC</td>\n",
       "      <td>electric_bike</td>\n",
       "      <td>2022-11-30 23:56:11</td>\n",
       "      <td>2022-12-01 00:00:52</td>\n",
       "      <td>Clark St &amp; Winnemac Ave</td>\n",
       "      <td>TA1309000035</td>\n",
       "      <td>Broadway &amp; Ridge Ave</td>\n",
       "      <td>15578</td>\n",
       "      <td>41.973391</td>\n",
       "      <td>-87.667762</td>\n",
       "      <td>41.984045</td>\n",
       "      <td>-87.660274</td>\n",
       "      <td>casual</td>\n",
       "      <td>0 days 00:04:41</td>\n",
       "    </tr>\n",
       "    <tr>\n",
       "      <th>11540677</th>\n",
       "      <td>C32D3E0585F38636</td>\n",
       "      <td>electric_bike</td>\n",
       "      <td>2022-11-30 23:55:28</td>\n",
       "      <td>2022-11-30 23:59:46</td>\n",
       "      <td>Broadway &amp; Cornelia Ave</td>\n",
       "      <td>13278</td>\n",
       "      <td>Clarendon Ave &amp; Gordon Ter</td>\n",
       "      <td>13379</td>\n",
       "      <td>41.945466</td>\n",
       "      <td>-87.646343</td>\n",
       "      <td>41.957867</td>\n",
       "      <td>-87.649505</td>\n",
       "      <td>member</td>\n",
       "      <td>0 days 00:04:18</td>\n",
       "    </tr>\n",
       "    <tr>\n",
       "      <th>11682733</th>\n",
       "      <td>0A7F3F32FCC736D1</td>\n",
       "      <td>classic_bike</td>\n",
       "      <td>2022-11-30 23:55:02</td>\n",
       "      <td>2022-12-01 00:21:10</td>\n",
       "      <td>McClurg Ct &amp; Ohio St</td>\n",
       "      <td>TA1306000029</td>\n",
       "      <td>Sheffield Ave &amp; Fullerton Ave</td>\n",
       "      <td>TA1306000016</td>\n",
       "      <td>41.892592</td>\n",
       "      <td>-87.617289</td>\n",
       "      <td>41.925602</td>\n",
       "      <td>-87.653708</td>\n",
       "      <td>member</td>\n",
       "      <td>0 days 00:26:08</td>\n",
       "    </tr>\n",
       "    <tr>\n",
       "      <th>11685642</th>\n",
       "      <td>CB5ECCA9D1567A45</td>\n",
       "      <td>electric_bike</td>\n",
       "      <td>2022-11-30 23:54:40</td>\n",
       "      <td>2022-11-30 23:58:59</td>\n",
       "      <td>State St &amp; Van Buren St</td>\n",
       "      <td>TA1305000035</td>\n",
       "      <td>Michigan Ave &amp; 14th St</td>\n",
       "      <td>TA1307000124</td>\n",
       "      <td>41.877238</td>\n",
       "      <td>-87.627823</td>\n",
       "      <td>41.864059</td>\n",
       "      <td>-87.623727</td>\n",
       "      <td>member</td>\n",
       "      <td>0 days 00:04:19</td>\n",
       "    </tr>\n",
       "    <tr>\n",
       "      <th>11530599</th>\n",
       "      <td>FDB69DF74922162E</td>\n",
       "      <td>classic_bike</td>\n",
       "      <td>2022-11-30 23:53:00</td>\n",
       "      <td>2022-12-01 00:03:58</td>\n",
       "      <td>Desplaines St &amp; Kinzie St</td>\n",
       "      <td>TA1306000003</td>\n",
       "      <td>Eckhart Park</td>\n",
       "      <td>13289</td>\n",
       "      <td>41.888716</td>\n",
       "      <td>-87.644448</td>\n",
       "      <td>41.896373</td>\n",
       "      <td>-87.660984</td>\n",
       "      <td>casual</td>\n",
       "      <td>0 days 00:10:58</td>\n",
       "    </tr>\n",
       "  </tbody>\n",
       "</table>\n",
       "</div>"
      ],
      "text/plain": [
       "                   ride_id  rideable_type           started_at  \\\n",
       "11784293  F6BE77C9DC9AB3BC  electric_bike  2022-11-30 23:56:11   \n",
       "11540677  C32D3E0585F38636  electric_bike  2022-11-30 23:55:28   \n",
       "11682733  0A7F3F32FCC736D1   classic_bike  2022-11-30 23:55:02   \n",
       "11685642  CB5ECCA9D1567A45  electric_bike  2022-11-30 23:54:40   \n",
       "11530599  FDB69DF74922162E   classic_bike  2022-11-30 23:53:00   \n",
       "\n",
       "                     ended_at         start_station_name start_station_id  \\\n",
       "11784293  2022-12-01 00:00:52    Clark St & Winnemac Ave     TA1309000035   \n",
       "11540677  2022-11-30 23:59:46    Broadway & Cornelia Ave            13278   \n",
       "11682733  2022-12-01 00:21:10       McClurg Ct & Ohio St     TA1306000029   \n",
       "11685642  2022-11-30 23:58:59    State St & Van Buren St     TA1305000035   \n",
       "11530599  2022-12-01 00:03:58  Desplaines St & Kinzie St     TA1306000003   \n",
       "\n",
       "                       end_station_name end_station_id  start_lat  start_lng  \\\n",
       "11784293           Broadway & Ridge Ave          15578  41.973391 -87.667762   \n",
       "11540677     Clarendon Ave & Gordon Ter          13379  41.945466 -87.646343   \n",
       "11682733  Sheffield Ave & Fullerton Ave   TA1306000016  41.892592 -87.617289   \n",
       "11685642         Michigan Ave & 14th St   TA1307000124  41.877238 -87.627823   \n",
       "11530599                   Eckhart Park          13289  41.888716 -87.644448   \n",
       "\n",
       "            end_lat    end_lng member_casual         Duration  \n",
       "11784293  41.984045 -87.660274        casual  0 days 00:04:41  \n",
       "11540677  41.957867 -87.649505        member  0 days 00:04:18  \n",
       "11682733  41.925602 -87.653708        member  0 days 00:26:08  \n",
       "11685642  41.864059 -87.623727        member  0 days 00:04:19  \n",
       "11530599  41.896373 -87.660984        casual  0 days 00:10:58  "
      ]
     },
     "execution_count": 25,
     "metadata": {},
     "output_type": "execute_result"
    }
   ],
   "source": [
    "df3.sort_values(by=\"started_at\", ascending=False).head()"
   ]
  },
  {
   "cell_type": "code",
   "execution_count": null,
   "metadata": {},
   "outputs": [],
   "source": []
  }
 ],
 "metadata": {
  "kernelspec": {
   "display_name": "Python 3.9.13 ('base')",
   "language": "python",
   "name": "python3"
  },
  "language_info": {
   "codemirror_mode": {
    "name": "ipython",
    "version": 3
   },
   "file_extension": ".py",
   "mimetype": "text/x-python",
   "name": "python",
   "nbconvert_exporter": "python",
   "pygments_lexer": "ipython3",
   "version": "3.9.13"
  },
  "orig_nbformat": 4,
  "vscode": {
   "interpreter": {
    "hash": "575c6bd5a177b5d132fcde8274b913f3c21b7e73d51aa963022e53c12c855868"
   }
  }
 },
 "nbformat": 4,
 "nbformat_minor": 2
}
